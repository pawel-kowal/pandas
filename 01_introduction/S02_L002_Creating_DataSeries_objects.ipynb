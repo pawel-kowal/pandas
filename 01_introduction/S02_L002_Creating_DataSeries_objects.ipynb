{
  "nbformat": 4,
  "nbformat_minor": 0,
  "metadata": {
    "colab": {
      "provenance": [],
      "authorship_tag": "ABX9TyOzRFv+oeWVjFmcl9Ahx31F",
      "include_colab_link": true
    },
    "kernelspec": {
      "name": "python3",
      "display_name": "Python 3"
    },
    "language_info": {
      "name": "python"
    }
  },
  "cells": [
    {
      "cell_type": "markdown",
      "metadata": {
        "id": "view-in-github",
        "colab_type": "text"
      },
      "source": [
        "<a href=\"https://colab.research.google.com/github/pawel-kowal/pandas/blob/main/01_introduction/S02_L002_Creating_DataSeries_objects.ipynb\" target=\"_parent\"><img src=\"https://colab.research.google.com/assets/colab-badge.svg\" alt=\"Open In Colab\"/></a>"
      ]
    },
    {
      "cell_type": "code",
      "execution_count": 1,
      "metadata": {
        "id": "CKN1SYegm94l"
      },
      "outputs": [],
      "source": [
        "import pandas as pd\n",
        "import numpy as np\n",
        "import matplotlib.pyplot as plt\n",
        "import math"
      ]
    },
    {
      "cell_type": "code",
      "source": [
        "cities = ['London', 'Berlin', 'Warsaw', 'Paris']\n",
        "cities"
      ],
      "metadata": {
        "colab": {
          "base_uri": "https://localhost:8080/"
        },
        "id": "fx3w8zPPndUi",
        "outputId": "435618b8-d6c0-4cbc-982e-61f886c533ad"
      },
      "execution_count": 2,
      "outputs": [
        {
          "output_type": "execute_result",
          "data": {
            "text/plain": [
              "['London', 'Berlin', 'Warsaw', 'Paris']"
            ]
          },
          "metadata": {},
          "execution_count": 2
        }
      ]
    },
    {
      "cell_type": "code",
      "source": [
        "pd.Series(cities)"
      ],
      "metadata": {
        "colab": {
          "base_uri": "https://localhost:8080/"
        },
        "id": "Sh6J_g_dnjZT",
        "outputId": "fd6dae02-7ea3-4346-becb-39bc0d9e9cb9"
      },
      "execution_count": 3,
      "outputs": [
        {
          "output_type": "execute_result",
          "data": {
            "text/plain": [
              "0    London\n",
              "1    Berlin\n",
              "2    Warsaw\n",
              "3     Paris\n",
              "dtype: object"
            ]
          },
          "metadata": {},
          "execution_count": 3
        }
      ]
    },
    {
      "cell_type": "code",
      "source": [
        "primeNumbers = (2,3,5,7,11,13,17,19)\n",
        "pd.Series(primeNumbers)"
      ],
      "metadata": {
        "colab": {
          "base_uri": "https://localhost:8080/"
        },
        "id": "WRn-PMrHnoZg",
        "outputId": "6ffdd454-2ea3-4e98-bc57-8e0a7df26735"
      },
      "execution_count": 4,
      "outputs": [
        {
          "output_type": "execute_result",
          "data": {
            "text/plain": [
              "0     2\n",
              "1     3\n",
              "2     5\n",
              "3     7\n",
              "4    11\n",
              "5    13\n",
              "6    17\n",
              "7    19\n",
              "dtype: int64"
            ]
          },
          "metadata": {},
          "execution_count": 4
        }
      ]
    },
    {
      "cell_type": "code",
      "source": [
        "SpielbergFilmography = {'Jaws': 1975,\n",
        "                        '1941': 1979,\n",
        "                        'Indiana Jones':1981,\n",
        "                        'E.T.': 1982}"
      ],
      "metadata": {
        "id": "iBZe3Bs7oDDw"
      },
      "execution_count": 5,
      "outputs": []
    },
    {
      "cell_type": "code",
      "source": [
        "pd.Series(SpielbergFilmography)"
      ],
      "metadata": {
        "colab": {
          "base_uri": "https://localhost:8080/"
        },
        "id": "yAqSuBiIoRsT",
        "outputId": "6147b651-bf6f-4886-82ca-f82f264fb0fc"
      },
      "execution_count": 6,
      "outputs": [
        {
          "output_type": "execute_result",
          "data": {
            "text/plain": [
              "Jaws             1975\n",
              "1941             1979\n",
              "Indiana Jones    1981\n",
              "E.T.             1982\n",
              "dtype: int64"
            ]
          },
          "metadata": {},
          "execution_count": 6
        }
      ]
    }
  ]
}