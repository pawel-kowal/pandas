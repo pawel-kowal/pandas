{
  "nbformat": 4,
  "nbformat_minor": 0,
  "metadata": {
    "colab": {
      "provenance": [],
      "authorship_tag": "ABX9TyO8pm3Z5nZ/qB4XUR/sbOGU",
      "include_colab_link": true
    },
    "kernelspec": {
      "name": "python3",
      "display_name": "Python 3"
    },
    "language_info": {
      "name": "python"
    }
  },
  "cells": [
    {
      "cell_type": "markdown",
      "metadata": {
        "id": "view-in-github",
        "colab_type": "text"
      },
      "source": [
        "<a href=\"https://colab.research.google.com/github/pawel-kowal/pandas/blob/main/01_introduction/S02_L003_LAB.ipynb\" target=\"_parent\"><img src=\"https://colab.research.google.com/assets/colab-badge.svg\" alt=\"Open In Colab\"/></a>"
      ]
    },
    {
      "cell_type": "code",
      "execution_count": 7,
      "metadata": {
        "id": "CKN1SYegm94l"
      },
      "outputs": [],
      "source": [
        "import pandas as pd\n",
        "import numpy as np\n",
        "import matplotlib.pyplot as plt\n",
        "import math"
      ]
    },
    {
      "cell_type": "code",
      "source": [
        "weekdays = ['Mn', 'Tu', 'Wd','Th','Fr','St','Sn']\n",
        "weekdaysSeries = pd.Series(weekdays)\n",
        "weekdaysSeries"
      ],
      "metadata": {
        "colab": {
          "base_uri": "https://localhost:8080/"
        },
        "id": "KuvXON80pUDw",
        "outputId": "a098235a-3b75-4a5c-ca73-ffbeac2f7079"
      },
      "execution_count": 14,
      "outputs": [
        {
          "output_type": "execute_result",
          "data": {
            "text/plain": [
              "0    Mn\n",
              "1    Tu\n",
              "2    Wd\n",
              "3    Th\n",
              "4    Fr\n",
              "5    St\n",
              "6    Sn\n",
              "dtype: object"
            ]
          },
          "metadata": {},
          "execution_count": 14
        }
      ]
    },
    {
      "cell_type": "code",
      "source": [
        "freeDays = [False,False,False,False,False,True,True]\n",
        "freeDaysSeries=pd.Series(freeDays)\n",
        "freeDaysSeries"
      ],
      "metadata": {
        "colab": {
          "base_uri": "https://localhost:8080/"
        },
        "id": "itsSY5zFpfxb",
        "outputId": "da1295d8-5413-4797-a661-04da4dbd109d"
      },
      "execution_count": 15,
      "outputs": [
        {
          "output_type": "execute_result",
          "data": {
            "text/plain": [
              "0    False\n",
              "1    False\n",
              "2    False\n",
              "3    False\n",
              "4    False\n",
              "5     True\n",
              "6     True\n",
              "dtype: bool"
            ]
          },
          "metadata": {},
          "execution_count": 15
        }
      ]
    },
    {
      "cell_type": "code",
      "source": [
        "holidays = {'New Year': '2023-01-01',\n",
        "            'Epiphany': '2023-01-06',\n",
        "            'Easter':'2023-04-01'}\n",
        "holidaysSeries = pd.Series(holidays)\n",
        "holidaysSeries"
      ],
      "metadata": {
        "colab": {
          "base_uri": "https://localhost:8080/"
        },
        "id": "ywTjBCVEp05n",
        "outputId": "37556135-0c4b-469c-8c59-7a4c82693b15"
      },
      "execution_count": 16,
      "outputs": [
        {
          "output_type": "execute_result",
          "data": {
            "text/plain": [
              "New Year    2023-01-01\n",
              "Epiphany    2023-01-06\n",
              "Easter      2023-04-01\n",
              "dtype: object"
            ]
          },
          "metadata": {},
          "execution_count": 16
        }
      ]
    }
  ]
}