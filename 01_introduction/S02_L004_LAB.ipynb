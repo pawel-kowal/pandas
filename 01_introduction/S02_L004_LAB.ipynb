{
  "nbformat": 4,
  "nbformat_minor": 0,
  "metadata": {
    "colab": {
      "provenance": [],
      "authorship_tag": "ABX9TyNWYRRiTQMk3ubS6N2xv+rR",
      "include_colab_link": true
    },
    "kernelspec": {
      "name": "python3",
      "display_name": "Python 3"
    },
    "language_info": {
      "name": "python"
    }
  },
  "cells": [
    {
      "cell_type": "markdown",
      "metadata": {
        "id": "view-in-github",
        "colab_type": "text"
      },
      "source": [
        "<a href=\"https://colab.research.google.com/github/pawel-kowal/pandas/blob/main/01_introduction/S02_L004_LAB.ipynb\" target=\"_parent\"><img src=\"https://colab.research.google.com/assets/colab-badge.svg\" alt=\"Open In Colab\"/></a>"
      ]
    },
    {
      "cell_type": "code",
      "execution_count": 6,
      "metadata": {
        "id": "TxSCox4TdiXs"
      },
      "outputs": [],
      "source": [
        "import pandas as pd\n",
        "import numpy as np\n",
        "import matplotlib.pyplot as plt\n",
        "import math\n",
        "import random as rnd"
      ]
    },
    {
      "cell_type": "code",
      "source": [
        "dataAsFloatList = []\n",
        "dataAsFloatList"
      ],
      "metadata": {
        "colab": {
          "base_uri": "https://localhost:8080/"
        },
        "id": "rHnsM-MMdpp9",
        "outputId": "44bdef18-5d44-4a81-bb4e-c32fd61e373f"
      },
      "execution_count": 9,
      "outputs": [
        {
          "output_type": "execute_result",
          "data": {
            "text/plain": [
              "[]"
            ]
          },
          "metadata": {},
          "execution_count": 9
        }
      ]
    },
    {
      "cell_type": "code",
      "source": [
        "for i in range(100000):\n",
        "  dataAsFloatList.append(i*rnd.random())\n",
        "\n",
        "dataAsFloatSeries = pd.Series(dataAsFloatList)\n",
        "dataAsFloatSeries"
      ],
      "metadata": {
        "colab": {
          "base_uri": "https://localhost:8080/"
        },
        "id": "Ez-P4ToxeH1R",
        "outputId": "14c4739a-25bb-4736-d206-82a13f8db9c1"
      },
      "execution_count": 10,
      "outputs": [
        {
          "output_type": "execute_result",
          "data": {
            "text/plain": [
              "0            0.000000\n",
              "1            0.884642\n",
              "2            1.567172\n",
              "3            0.730743\n",
              "4            3.593138\n",
              "             ...     \n",
              "99995    84609.376971\n",
              "99996    31675.089398\n",
              "99997    53997.579758\n",
              "99998    19185.158221\n",
              "99999    39665.436712\n",
              "Length: 100000, dtype: float64"
            ]
          },
          "metadata": {},
          "execution_count": 10
        }
      ]
    },
    {
      "cell_type": "code",
      "source": [
        "print('size: \\t',dataAsFloatSeries.size)\n",
        "print('nbytes:\\t',dataAsFloatSeries.nbytes)\n",
        "print('shape:\\t',dataAsFloatSeries.shape)\n",
        "print('axes:\\t',dataAsFloatSeries.axes)\n",
        "print('dtype:\\t',dataAsFloatSeries.dtype)\n",
        "print('index:\\t',dataAsFloatSeries.index)\n",
        "print('unique:\\t',dataAsFloatSeries.is_unique)\n",
        "print('monotonic:\\t',dataAsFloatSeries.is_monotonic)"
      ],
      "metadata": {
        "colab": {
          "base_uri": "https://localhost:8080/"
        },
        "id": "OMfwhnLBehiD",
        "outputId": "4fa75909-84ee-4030-9b99-d47240dfa88d"
      },
      "execution_count": 11,
      "outputs": [
        {
          "output_type": "stream",
          "name": "stdout",
          "text": [
            "size: \t 100000\n",
            "nbytes:\t 800000\n",
            "shape:\t (100000,)\n",
            "axes:\t [RangeIndex(start=0, stop=100000, step=1)]\n",
            "dtype:\t float64\n",
            "index:\t RangeIndex(start=0, stop=100000, step=1)\n",
            "unique:\t True\n",
            "monotonic:\t False\n"
          ]
        },
        {
          "output_type": "stream",
          "name": "stderr",
          "text": [
            "<ipython-input-11-26ed3f3d5c84>:8: FutureWarning: is_monotonic is deprecated and will be removed in a future version. Use is_monotonic_increasing instead.\n",
            "  print('monotonic:\\t',dataAsFloatSeries.is_monotonic)\n"
          ]
        }
      ]
    },
    {
      "cell_type": "code",
      "source": [
        "dataAsStringList = []\n",
        "for i in range(100000):\n",
        "  dataAsStringList.append( str(i*rnd.random()))\n",
        "\n",
        "dataAsStringSeries=pd.Series(dataAsStringList)\n",
        "dataAsStringSeries"
      ],
      "metadata": {
        "colab": {
          "base_uri": "https://localhost:8080/"
        },
        "id": "amIXthyueuCx",
        "outputId": "61bfe2f5-7fd1-49b0-f583-a2211ec4cf56"
      },
      "execution_count": 13,
      "outputs": [
        {
          "output_type": "execute_result",
          "data": {
            "text/plain": [
              "0                       0.0\n",
              "1        0.5915555885477649\n",
              "2        0.9352407104093181\n",
              "3         1.895563671678373\n",
              "4         1.717395705249782\n",
              "                ...        \n",
              "99995    10743.567709425004\n",
              "99996    65315.110421675156\n",
              "99997    19547.912194626057\n",
              "99998      30622.0580163888\n",
              "99999    61574.576300235036\n",
              "Length: 100000, dtype: object"
            ]
          },
          "metadata": {},
          "execution_count": 13
        }
      ]
    },
    {
      "cell_type": "code",
      "source": [
        "print('size: \\t',dataAsStringSeries.size)\n",
        "print('nbytes:\\t',dataAsStringSeries.nbytes)\n",
        "print('dtype:\\t',dataAsStringSeries.dtype)"
      ],
      "metadata": {
        "colab": {
          "base_uri": "https://localhost:8080/"
        },
        "id": "_L-ISlXlfB_1",
        "outputId": "fc481741-e6fe-4db7-fecc-83428ab62edb"
      },
      "execution_count": 14,
      "outputs": [
        {
          "output_type": "stream",
          "name": "stdout",
          "text": [
            "size: \t 100000\n",
            "nbytes:\t 800000\n",
            "dtype:\t object\n"
          ]
        }
      ]
    },
    {
      "cell_type": "code",
      "source": [
        "dataAsFloatSeries.memory_usage(deep=True)"
      ],
      "metadata": {
        "colab": {
          "base_uri": "https://localhost:8080/"
        },
        "id": "7gqoKzJcfIrg",
        "outputId": "c84d81c7-ccb6-4eee-ef98-c21231acbe4e"
      },
      "execution_count": 15,
      "outputs": [
        {
          "output_type": "execute_result",
          "data": {
            "text/plain": [
              "800128"
            ]
          },
          "metadata": {},
          "execution_count": 15
        }
      ]
    },
    {
      "cell_type": "code",
      "source": [
        "dataAsStringSeries.memory_usage(deep=True)"
      ],
      "metadata": {
        "colab": {
          "base_uri": "https://localhost:8080/"
        },
        "id": "3heAXJqFfKKV",
        "outputId": "2281ac4a-b936-4ac4-967a-d9d4f72a997e"
      },
      "execution_count": 16,
      "outputs": [
        {
          "output_type": "execute_result",
          "data": {
            "text/plain": [
              "7434392"
            ]
          },
          "metadata": {},
          "execution_count": 16
        }
      ]
    }
  ]
}